{
 "cells": [
  {
   "cell_type": "code",
   "execution_count": 9,
   "metadata": {},
   "outputs": [],
   "source": [
    "# load outputs from first layer of linear \n",
    "# the outputs are stored in a dictionary format .npy file with key = latent behavior and value = list of outputs\n",
    "\n",
    "import numpy as np\n",
    "import os\n",
    "import sys\n",
    "import pickle\n",
    "\n",
    "\n",
    "def main():\n",
    "    # load data from Experiment_results/experiment_b/lin1_out.npy\n",
    "    data1 = np.load('Experiment_results/experiment_b/lin1_out.npy', allow_pickle=True).item()\n",
    "    data2 = np.load(\"disentangling-vae-master/Experiment_results_beta/experiment_b/lin1_out.npy\", allow_pickle=True).item()\n",
    "    for key in data1.keys():\n",
    "        print(key)\n",
    "        print(data1[key])\n",
    "        print(data2[key])\n",
    "        print(\" \")\n"
   ]
  },
  {
   "cell_type": "code",
   "execution_count": 10,
   "metadata": {},
   "outputs": [
    {
     "ename": "FileNotFoundError",
     "evalue": "[Errno 2] No such file or directory: 'Experiment_results/experiment_b/lin1_out.npy'",
     "output_type": "error",
     "traceback": [
      "\u001b[0;31m---------------------------------------------------------------------------\u001b[0m",
      "\u001b[0;31mFileNotFoundError\u001b[0m                         Traceback (most recent call last)",
      "\u001b[1;32m/Users/junyangsun/Documents/GitHub/platonianform/disentangling-vae-master/load_lin_out.ipynb Cell 2\u001b[0m line \u001b[0;36m1\n\u001b[0;32m----> <a href='vscode-notebook-cell:/Users/junyangsun/Documents/GitHub/platonianform/disentangling-vae-master/load_lin_out.ipynb#W1sZmlsZQ%3D%3D?line=0'>1</a>\u001b[0m main()\n",
      "\u001b[1;32m/Users/junyangsun/Documents/GitHub/platonianform/disentangling-vae-master/load_lin_out.ipynb Cell 2\u001b[0m line \u001b[0;36m1\n\u001b[1;32m     <a href='vscode-notebook-cell:/Users/junyangsun/Documents/GitHub/platonianform/disentangling-vae-master/load_lin_out.ipynb#W1sZmlsZQ%3D%3D?line=9'>10</a>\u001b[0m \u001b[39mdef\u001b[39;00m \u001b[39mmain\u001b[39m():\n\u001b[1;32m     <a href='vscode-notebook-cell:/Users/junyangsun/Documents/GitHub/platonianform/disentangling-vae-master/load_lin_out.ipynb#W1sZmlsZQ%3D%3D?line=10'>11</a>\u001b[0m     \u001b[39m# load data from Experiment_results/experiment_b/lin1_out.npy\u001b[39;00m\n\u001b[0;32m---> <a href='vscode-notebook-cell:/Users/junyangsun/Documents/GitHub/platonianform/disentangling-vae-master/load_lin_out.ipynb#W1sZmlsZQ%3D%3D?line=11'>12</a>\u001b[0m     data1 \u001b[39m=\u001b[39m np\u001b[39m.\u001b[39;49mload(\u001b[39m'\u001b[39;49m\u001b[39mExperiment_results/experiment_b/lin1_out.npy\u001b[39;49m\u001b[39m'\u001b[39;49m, allow_pickle\u001b[39m=\u001b[39;49m\u001b[39mTrue\u001b[39;49;00m)\u001b[39m.\u001b[39mitem()\n\u001b[1;32m     <a href='vscode-notebook-cell:/Users/junyangsun/Documents/GitHub/platonianform/disentangling-vae-master/load_lin_out.ipynb#W1sZmlsZQ%3D%3D?line=12'>13</a>\u001b[0m     data2 \u001b[39m=\u001b[39m np\u001b[39m.\u001b[39mload(\u001b[39m\"\u001b[39m\u001b[39mdisentangling-vae-master/Experiment_results_beta/experiment_b/lin1_out.npy\u001b[39m\u001b[39m\"\u001b[39m, allow_pickle\u001b[39m=\u001b[39m\u001b[39mTrue\u001b[39;00m)\u001b[39m.\u001b[39mitem()\n\u001b[1;32m     <a href='vscode-notebook-cell:/Users/junyangsun/Documents/GitHub/platonianform/disentangling-vae-master/load_lin_out.ipynb#W1sZmlsZQ%3D%3D?line=13'>14</a>\u001b[0m     \u001b[39mfor\u001b[39;00m key \u001b[39min\u001b[39;00m data1\u001b[39m.\u001b[39mkeys():\n",
      "File \u001b[0;32m~/opt/anaconda3/envs/cs236/lib/python3.12/site-packages/numpy/lib/npyio.py:427\u001b[0m, in \u001b[0;36mload\u001b[0;34m(file, mmap_mode, allow_pickle, fix_imports, encoding, max_header_size)\u001b[0m\n\u001b[1;32m    425\u001b[0m     own_fid \u001b[39m=\u001b[39m \u001b[39mFalse\u001b[39;00m\n\u001b[1;32m    426\u001b[0m \u001b[39melse\u001b[39;00m:\n\u001b[0;32m--> 427\u001b[0m     fid \u001b[39m=\u001b[39m stack\u001b[39m.\u001b[39menter_context(\u001b[39mopen\u001b[39;49m(os_fspath(file), \u001b[39m\"\u001b[39;49m\u001b[39mrb\u001b[39;49m\u001b[39m\"\u001b[39;49m))\n\u001b[1;32m    428\u001b[0m     own_fid \u001b[39m=\u001b[39m \u001b[39mTrue\u001b[39;00m\n\u001b[1;32m    430\u001b[0m \u001b[39m# Code to distinguish from NumPy binary files and pickles.\u001b[39;00m\n",
      "\u001b[0;31mFileNotFoundError\u001b[0m: [Errno 2] No such file or directory: 'Experiment_results/experiment_b/lin1_out.npy'"
     ]
    }
   ],
   "source": [
    "main()"
   ]
  },
  {
   "cell_type": "code",
   "execution_count": null,
   "metadata": {},
   "outputs": [],
   "source": []
  }
 ],
 "metadata": {
  "kernelspec": {
   "display_name": "cs236",
   "language": "python",
   "name": "python3"
  },
  "language_info": {
   "codemirror_mode": {
    "name": "ipython",
    "version": 3
   },
   "file_extension": ".py",
   "mimetype": "text/x-python",
   "name": "python",
   "nbconvert_exporter": "python",
   "pygments_lexer": "ipython3",
   "version": "3.12.0"
  }
 },
 "nbformat": 4,
 "nbformat_minor": 2
}
