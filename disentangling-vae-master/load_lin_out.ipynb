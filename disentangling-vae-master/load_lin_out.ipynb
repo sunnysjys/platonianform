{
 "cells": [
  {
   "cell_type": "code",
   "execution_count": null,
   "metadata": {},
   "outputs": [],
   "source": [
    "# load outputs from first layer of linear \n",
    "# the outputs are stored in a dictionary format .npy file with key = latent behavior and value = list of outputs\n",
    "\n",
    "import numpy as np\n",
    "import os\n",
    "import sys\n",
    "import argparse\n",
    "import pickle\n",
    "import random\n",
    "import matplotlib.pyplot as plt\n",
    "import matplotlib\n",
    "import seaborn as sns\n",
    "\n",
    "def main():\n",
    "    # load data from Experiment_results/experiment_b/lin1_out.npy\n"
   ]
  }
 ],
 "metadata": {
  "language_info": {
   "name": "python"
  }
 },
 "nbformat": 4,
 "nbformat_minor": 2
}
